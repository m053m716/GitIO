{
 "cells": [
  {
   "cell_type": "markdown",
   "metadata": {},
   "source": [
    "# Publications markdown generator for academicpages\n",
    "\n",
    "Takes a TSV of publications with metadata and converts them for use with [academicpages.github.io](academicpages.github.io). This is an interactive Jupyter notebook ([see more info here](http://jupyter-notebook-beginner-guide.readthedocs.io/en/latest/what_is_jupyter.html)). The core python code is also in `publications.py`. Run either from the `markdown_generator` folder after replacing `publications.tsv` with one containing your data.\n",
    "\n",
    "TODO: Make this work with BibTex and other databases of citations, rather than Stuart's non-standard TSV format and citation style.\n"
   ]
  },
  {
   "cell_type": "markdown",
   "metadata": {},
   "source": [
    "## Data format\n",
    "\n",
    "The TSV needs to have the following columns: pub_date, title, venue, excerpt, citation, site_url, and paper_url, with a header at the top. \n",
    "\n",
    "- `excerpt` and `paper_url` can be blank, but the others must have values. \n",
    "- `pub_date` must be formatted as YYYY-MM-DD.\n",
    "- `url_slug` will be the descriptive part of the .md file and the permalink URL for the page about the paper. The .md file will be `YYYY-MM-DD-[url_slug].md` and the permalink will be `https://[yourdomain]/publications/YYYY-MM-DD-[url_slug]`\n",
    "\n",
    "This is how the raw file looks (it doesn't look pretty, use a spreadsheet or other program to edit and create)."
   ]
  },
  {
   "cell_type": "code",
   "execution_count": 11,
   "metadata": {},
   "outputs": [],
   "source": [
    "import os, collections\n",
    "import pandas as pd"
   ]
  },
  {
   "cell_type": "markdown",
   "metadata": {},
   "source": [
    "## Import TSV\n",
    "\n",
    "Pandas makes this easy with the read_csv function. We are using a TSV, so we specify the separator as a tab, or `\\t`.\n",
    "\n",
    "I found it important to put this data in a tab-separated values format, because there are a lot of commas in this kind of data and comma-separated values can get messed up. However, you can modify the import statement, as pandas also has read_excel(), read_json(), and others."
   ]
  },
  {
   "cell_type": "code",
   "execution_count": 12,
   "metadata": {},
   "outputs": [
    {
     "output_type": "stream",
     "name": "stdout",
     "text": [
      "Imported generator `publications.tsv` file:\n"
     ]
    },
    {
     "output_type": "execute_result",
     "data": {
      "text/plain": [
       "     pub_date                                              title  \\\n",
       "0  2016-01-06  Current challenges facing the translation of b...   \n",
       "1  2017-01-09  Comprehensive spatial analysis of the Borrelia...   \n",
       "2  2018-05-27  Assessing Perturbations to Neural Spiking Resp...   \n",
       "3  2019-10-29  Improving an open-source commercial system to ...   \n",
       "4  2019-10-30  Chronic stability of single-channel neurophysi...   \n",
       "5  2020-05-14  Differential effects of open-and closed-loop i...   \n",
       "6  2020-11-01  Effects of tDCS on spontaneous spike activity ...   \n",
       "\n",
       "                                             venue  \\\n",
       "0               Frontiers in Cellular Neuroscience   \n",
       "1                          Journal of Bacteriology   \n",
       "2  International Symposium on Circuits and Systems   \n",
       "3                    Journal of Neural Engineering   \n",
       "4                                         PLoS ONE   \n",
       "5                                  Cerebral cortex   \n",
       "6                                Brain Stimulation   \n",
       "\n",
       "                                             excerpt  \\\n",
       "0  This is a review of the challenges facing the ...   \n",
       "1  This paper is about the localization of lipopr...   \n",
       "2  This paper is about a proof-of-concept nonline...   \n",
       "3  We modified the Intan Stimulation/Recording co...   \n",
       "4  Rats were trained on a 'gross' and 'fine' fore...   \n",
       "5  Intracortical microstimulation (ICMS) was appl...   \n",
       "6  We tested whether transcranial direct-current ...   \n",
       "\n",
       "                                            citation  \\\n",
       "0  Murphy, M. D., Guggenmos, D. J., Bundy, D. T.,...   \n",
       "1  Dowdell, A. S., Murphy, M. D., Azodi, C., Swan...   \n",
       "2  Murphy, M. D., Dunham, C., Nudo, R. J., Guggen...   \n",
       "3  Murphy, M., Buccelli, S., Bornat, Y., Bundy, D...   \n",
       "4  Bundy, D. T., Guggenmos, D. J., Murphy, M. D.,...   \n",
       "5  Averna, A., Pasquale, V., Murphy, M. D., Rogan...   \n",
       "6  Milighetti, S., Sterzi, S., Fregni, F., Hanlon...   \n",
       "\n",
       "                                                 url  \\\n",
       "0  https://www.frontiersin.org/articles/10.3389/f...   \n",
       "1  https://jb.asm.org/content/jb/199/6/e00658-16....   \n",
       "2  https://ieeexplore.ieee.org/iel7/8334884/83508...   \n",
       "3  http://m053m716.github.io/files/Murphy_et_al__...   \n",
       "4  https://journals.plos.org/plosone/article/file...   \n",
       "5  https://academic.oup.com/cercor/article/30/5/2...   \n",
       "6  https://www.sciencedirect.com/science/article/...   \n",
       "\n",
       "                                           paper_url         url_slug  \\\n",
       "0  https://www.frontiersin.org/articles/10.3389/f...  FrontiersReview   \n",
       "1  https://jb.asm.org/content/jb/199/6/e00658-16....         Borrelia   \n",
       "2  https://ieeexplore.ieee.org/iel7/8334884/83508...            ISCAS   \n",
       "3  http://m053m716.github.io/files/Murphy_et_al__...        Intan-FSM   \n",
       "4  https://journals.plos.org/plosone/article/file...            Bundy   \n",
       "5  https://academic.oup.com/cercor/article/30/5/2...           Averna   \n",
       "6  https://www.sciencedirect.com/science/article/...      Millighetti   \n",
       "\n",
       "                                                tags  \\\n",
       "0  Review,BCI,Rehabilitation,Brain Computer Inter...   \n",
       "1      Borrelia,Burgdorferi,Lipoprotein,Lyme Disease   \n",
       "2  ICMS,Stimulation,LFADS,Deep Learning,RNN,Ambul...   \n",
       "3              FPGA,Spike Detection,Closed-Loop,ICMS   \n",
       "4  Rat,Reaching,Motor,Neurophysiology,Spike,LFP,C...   \n",
       "5                   ICMS,ADS,Anesthetized,Rat,Cortex   \n",
       "6           tDCS,Rat,Ambulatory,Cortex,FEM,Spike,LFP   \n",
       "\n",
       "                                            abstract  \n",
       "0  Current research in brain computer interface (...  \n",
       "1  The Lyme disease spirochete Borrelia burgdorfe...  \n",
       "2  This study assesses the feasibility of latent ...  \n",
       "3  Objective. Activity-dependent stimulation (ADS...  \n",
       "4  While substantial task-related neural activity...  \n",
       "5  Intracortical microstimulation can be used suc...  \n",
       "6  The neurophysiological effects of transcranial...  "
      ],
      "text/html": "<div>\n<style scoped>\n    .dataframe tbody tr th:only-of-type {\n        vertical-align: middle;\n    }\n\n    .dataframe tbody tr th {\n        vertical-align: top;\n    }\n\n    .dataframe thead th {\n        text-align: right;\n    }\n</style>\n<table border=\"1\" class=\"dataframe\">\n  <thead>\n    <tr style=\"text-align: right;\">\n      <th></th>\n      <th>pub_date</th>\n      <th>title</th>\n      <th>venue</th>\n      <th>excerpt</th>\n      <th>citation</th>\n      <th>url</th>\n      <th>paper_url</th>\n      <th>url_slug</th>\n      <th>tags</th>\n      <th>abstract</th>\n    </tr>\n  </thead>\n  <tbody>\n    <tr>\n      <th>0</th>\n      <td>2016-01-06</td>\n      <td>Current challenges facing the translation of b...</td>\n      <td>Frontiers in Cellular Neuroscience</td>\n      <td>This is a review of the challenges facing the ...</td>\n      <td>Murphy, M. D., Guggenmos, D. J., Bundy, D. T.,...</td>\n      <td>https://www.frontiersin.org/articles/10.3389/f...</td>\n      <td>https://www.frontiersin.org/articles/10.3389/f...</td>\n      <td>FrontiersReview</td>\n      <td>Review,BCI,Rehabilitation,Brain Computer Inter...</td>\n      <td>Current research in brain computer interface (...</td>\n    </tr>\n    <tr>\n      <th>1</th>\n      <td>2017-01-09</td>\n      <td>Comprehensive spatial analysis of the Borrelia...</td>\n      <td>Journal of Bacteriology</td>\n      <td>This paper is about the localization of lipopr...</td>\n      <td>Dowdell, A. S., Murphy, M. D., Azodi, C., Swan...</td>\n      <td>https://jb.asm.org/content/jb/199/6/e00658-16....</td>\n      <td>https://jb.asm.org/content/jb/199/6/e00658-16....</td>\n      <td>Borrelia</td>\n      <td>Borrelia,Burgdorferi,Lipoprotein,Lyme Disease</td>\n      <td>The Lyme disease spirochete Borrelia burgdorfe...</td>\n    </tr>\n    <tr>\n      <th>2</th>\n      <td>2018-05-27</td>\n      <td>Assessing Perturbations to Neural Spiking Resp...</td>\n      <td>International Symposium on Circuits and Systems</td>\n      <td>This paper is about a proof-of-concept nonline...</td>\n      <td>Murphy, M. D., Dunham, C., Nudo, R. J., Guggen...</td>\n      <td>https://ieeexplore.ieee.org/iel7/8334884/83508...</td>\n      <td>https://ieeexplore.ieee.org/iel7/8334884/83508...</td>\n      <td>ISCAS</td>\n      <td>ICMS,Stimulation,LFADS,Deep Learning,RNN,Ambul...</td>\n      <td>This study assesses the feasibility of latent ...</td>\n    </tr>\n    <tr>\n      <th>3</th>\n      <td>2019-10-29</td>\n      <td>Improving an open-source commercial system to ...</td>\n      <td>Journal of Neural Engineering</td>\n      <td>We modified the Intan Stimulation/Recording co...</td>\n      <td>Murphy, M., Buccelli, S., Bornat, Y., Bundy, D...</td>\n      <td>http://m053m716.github.io/files/Murphy_et_al__...</td>\n      <td>http://m053m716.github.io/files/Murphy_et_al__...</td>\n      <td>Intan-FSM</td>\n      <td>FPGA,Spike Detection,Closed-Loop,ICMS</td>\n      <td>Objective. Activity-dependent stimulation (ADS...</td>\n    </tr>\n    <tr>\n      <th>4</th>\n      <td>2019-10-30</td>\n      <td>Chronic stability of single-channel neurophysi...</td>\n      <td>PLoS ONE</td>\n      <td>Rats were trained on a 'gross' and 'fine' fore...</td>\n      <td>Bundy, D. T., Guggenmos, D. J., Murphy, M. D.,...</td>\n      <td>https://journals.plos.org/plosone/article/file...</td>\n      <td>https://journals.plos.org/plosone/article/file...</td>\n      <td>Bundy</td>\n      <td>Rat,Reaching,Motor,Neurophysiology,Spike,LFP,C...</td>\n      <td>While substantial task-related neural activity...</td>\n    </tr>\n    <tr>\n      <th>5</th>\n      <td>2020-05-14</td>\n      <td>Differential effects of open-and closed-loop i...</td>\n      <td>Cerebral cortex</td>\n      <td>Intracortical microstimulation (ICMS) was appl...</td>\n      <td>Averna, A., Pasquale, V., Murphy, M. D., Rogan...</td>\n      <td>https://academic.oup.com/cercor/article/30/5/2...</td>\n      <td>https://academic.oup.com/cercor/article/30/5/2...</td>\n      <td>Averna</td>\n      <td>ICMS,ADS,Anesthetized,Rat,Cortex</td>\n      <td>Intracortical microstimulation can be used suc...</td>\n    </tr>\n    <tr>\n      <th>6</th>\n      <td>2020-11-01</td>\n      <td>Effects of tDCS on spontaneous spike activity ...</td>\n      <td>Brain Stimulation</td>\n      <td>We tested whether transcranial direct-current ...</td>\n      <td>Milighetti, S., Sterzi, S., Fregni, F., Hanlon...</td>\n      <td>https://www.sciencedirect.com/science/article/...</td>\n      <td>https://www.sciencedirect.com/science/article/...</td>\n      <td>Millighetti</td>\n      <td>tDCS,Rat,Ambulatory,Cortex,FEM,Spike,LFP</td>\n      <td>The neurophysiological effects of transcranial...</td>\n    </tr>\n  </tbody>\n</table>\n</div>"
     },
     "metadata": {},
     "execution_count": 12
    }
   ],
   "source": [
    "oldContents = os.listdir(\"../_publications/\")\n",
    "publications = pd.read_csv(\"publications.tsv\", sep=\"\\t\", header=0)\n",
    "print(\"Imported generator `publications.tsv` file:\")\n",
    "publications\n"
   ]
  },
  {
   "cell_type": "markdown",
   "metadata": {},
   "source": [
    "## Escape special characters\n",
    "\n",
    "YAML is very picky about how it takes a valid string, so we are replacing single and double quotes (and ampersands) with their HTML encoded equivilents. This makes them look not so readable in raw format, but they are parsed and rendered nicely."
   ]
  },
  {
   "cell_type": "code",
   "execution_count": 13,
   "metadata": {
    "collapsed": true
   },
   "outputs": [],
   "source": [
    "html_escape_table = {\n",
    "    \"&\": \"&amp;\",\n",
    "    '\"': \"&quot;\",\n",
    "    \"'\": \"&apos;\"\n",
    "    }\n",
    "\n",
    "def html_escape(text):\n",
    "    \"\"\"Produce entities within text.\"\"\"\n",
    "    return \"\".join(html_escape_table.get(c,c) for c in text)"
   ]
  },
  {
   "cell_type": "markdown",
   "metadata": {},
   "source": [
    "## Creating the markdown files\n",
    "\n",
    "This is where the heavy lifting is done. This loops through all the rows in the TSV dataframe, then starts to concatentate a big string (```md```) that contains the markdown for each type. It does the YAML metadata first, then does the description for the individual page."
   ]
  },
  {
   "cell_type": "code",
   "execution_count": 14,
   "metadata": {},
   "outputs": [],
   "source": [
    "for row, item in publications.iterrows():\n",
    "    \n",
    "    md_filename = str(item.pub_date) + \"-\" + item.url_slug + \".md\"\n",
    "    html_filename = str(item.pub_date) + \"-\" + item.url_slug\n",
    "    year = item.pub_date[:4]\n",
    "    tags = item.tags.split(\",\")\n",
    "\n",
    "    ## YAML variables\n",
    "    \n",
    "    md = \"---\\ntitle: \\\"\"   + item.title + '\"\\n'\n",
    "    \n",
    "    md += 'collection: publications\\n'\n",
    "\n",
    "    md += 'category: publications\\n'\n",
    "\n",
    "    md += 'permalink: /publications/' + html_filename + '/\\n'\n",
    "\n",
    "    md += \"redirect_from:\\n\"\n",
    "\n",
    "    md += '  - \"/publications/' + html_filename + '.html\"\\n'\n",
    "    \n",
    "    md += '  - \"/publications/' + html_filename + '\"\\n'\n",
    "    \n",
    "    if len(str(item.excerpt)) > 5:\n",
    "        md += \"excerpt: '\" + html_escape(item.excerpt) + \"'\\n\"\n",
    "    \n",
    "    md += \"date: \" + str(item.pub_date) + \"\\n\"\n",
    "    \n",
    "    md += \"venue: '\" + html_escape(item.venue) + \"'\\n\"\n",
    "    \n",
    "    if len(str(item.paper_url)) > 5:\n",
    "        md += \"paperurl: '\" + item.paper_url + \"'\\n\"\n",
    "    \n",
    "    md += \"citation: '\" + html_escape(item.citation) + \"'\\n\"\n",
    "\n",
    "    md += \"author_profile: true\\n\"\n",
    "\n",
    "    ## Add tags in lowercase (they are delimited using \",\" in the tsv file)\n",
    "    md += \"tags:\\n\"\n",
    "    for tag in tags:\n",
    "        md += \"  - \" + html_escape(tag.lower()) + \"\\n\"\n",
    "    \n",
    "    md += \"---\\n\"\n",
    "    \n",
    "    ## Markdown description for individual page\n",
    "    md += \"\\n\" + html_escape(item.abstract) + \"\\n\"\n",
    "    \n",
    "    if len(str(item.paper_url)) > 5:\n",
    "        md += \"\\n[Download paper here](\" + item.paper_url + \")\\n\" \n",
    "        \n",
    "    md += \"\\nRecommended citation: \" + item.citation\n",
    "    \n",
    "    md_filename = os.path.basename(md_filename)\n",
    "       \n",
    "    with open(\"../_publications/\" + md_filename, 'w') as f:\n",
    "        f.write(md)"
   ]
  },
  {
   "cell_type": "markdown",
   "metadata": {},
   "source": [
    "These files are in the publications directory, one directory below where we're working from.\n",
    "We can print the contents using the python os `listdir` method to see what has been exported."
   ]
  },
  {
   "cell_type": "code",
   "execution_count": 15,
   "metadata": {},
   "outputs": [
    {
     "output_type": "stream",
     "name": "stdout",
     "text": [
      "No new files added.\nExisting files:\n\t2016-01-06-FrontiersReview.md\n\t2017-01-09-Borrelia.md\n\t2018-05-27-ISCAS.md\n\t2019-10-29-Intan-FSM.md\n\t2019-10-30-Bundy.md\n\t2020-05-14-Averna.md\n\t2020-11-01-Millighetti.md\n"
     ]
    }
   ],
   "source": [
    "newContents = os.listdir(\"../_publications/\")\n",
    "if collections.Counter(oldContents) == collections.Counter(newContents):\n",
    "    print(\"No new files added.\")\n",
    "    print(\"Existing files:\")\n",
    "    for f in oldContents:\n",
    "        print(\"\\t\" + f)\n",
    "else:\n",
    "    print(\"Generated new files:\")\n",
    "    for f in newContents:\n",
    "        print(\"\\t\" + f)"
   ]
  },
  {
   "cell_type": "code",
   "execution_count": null,
   "metadata": {},
   "outputs": [],
   "source": []
  }
 ],
 "metadata": {
  "kernelspec": {
   "display_name": "Python 3",
   "language": "python",
   "name": "python3"
  },
  "language_info": {
   "codemirror_mode": {
    "name": "ipython",
    "version": 3
   },
   "file_extension": ".py",
   "mimetype": "text/x-python",
   "name": "python",
   "nbconvert_exporter": "python",
   "pygments_lexer": "ipython3",
   "version": "3.8.3-final"
  }
 },
 "nbformat": 4,
 "nbformat_minor": 1
}