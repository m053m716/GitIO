{
 "cells": [
  {
   "cell_type": "markdown",
   "metadata": {},
   "source": [
    "# Talks markdown generator for academicpages\n",
    "\n",
    "Takes a TSV of talks with metadata and converts them for use with [academicpages.github.io](academicpages.github.io). This is an interactive Jupyter notebook ([see more info here](http://jupyter-notebook-beginner-guide.readthedocs.io/en/latest/what_is_jupyter.html)). The core python code is also in `talks.py`. Run either from the `markdown_generator` folder after replacing `talks.tsv` with one containing your data.\n",
    "\n",
    "TODO: Make this work with BibTex and other databases, rather than Stuart's non-standard TSV format and citation style."
   ]
  },
  {
   "cell_type": "code",
   "execution_count": 25,
   "metadata": {},
   "outputs": [],
   "source": [
    "import os, collections\n",
    "import pandas as pd"
   ]
  },
  {
   "cell_type": "markdown",
   "metadata": {},
   "source": [
    "## Data format\n",
    "\n",
    "The TSV needs to have the following columns: title, type, url_slug, venue, date, location, talk_url, description, with a header at the top. Many of these fields can be blank, but the columns must be in the TSV.\n",
    "\n",
    "- Fields that cannot be blank: `title`, `url_slug`, `date`. All else can be blank. `type` defaults to \"Talk\" \n",
    "- `date` must be formatted as YYYY-MM-DD.\n",
    "- `url_slug` will be the descriptive part of the .md file and the permalink URL for the page about the paper. \n",
    "    - The .md file will be `YYYY-MM-DD-[url_slug].md` and the permalink will be `https://[yourdomain]/talks/YYYY-MM-DD-[url_slug]`\n",
    "    - The combination of `url_slug` and `date` must be unique, as it will be the basis for your filenames\n",
    "\n",
    "This is how the raw file looks (it doesn't look pretty, use a spreadsheet or other program to edit and create)."
   ]
  },
  {
   "cell_type": "markdown",
   "metadata": {},
   "source": [
    "## Import TSV\n",
    "\n",
    "Pandas makes this easy with the read_csv function. We are using a TSV, so we specify the separator as a tab, or `\\t`.\n",
    "\n",
    "I found it important to put this data in a tab-separated values format, because there are a lot of commas in this kind of data and comma-separated values can get messed up. However, you can modify the import statement, as pandas also has read_excel(), read_json(), and others."
   ]
  },
  {
   "cell_type": "code",
   "execution_count": 26,
   "metadata": {},
   "outputs": [
    {
     "output_type": "stream",
     "name": "stdout",
     "text": [
      "Imported generator `talks.tsv` file:\n"
     ]
    },
    {
     "output_type": "execute_result",
     "data": {
      "text/plain": [
       "                                               title    type         assesses  \\\n",
       "0                                   Doctoral Defense    Talk           Stroke   \n",
       "1           Mechanisms of Recovery from Motor Stroke    Talk           Stroke   \n",
       "2  State Machine for Low-Latency High-Fidelity Sp...    Talk  Spike Detection   \n",
       "3            Neuroplasticity and Neurorehabilitation    Talk   Rehabilitation   \n",
       "4                   Capitol Graduate Research Summit  Poster              BCI   \n",
       "\n",
       "  educationalLevel           url_slug                                venue  \\\n",
       "0     intermediate       Dissertation                        Global (Zoom)   \n",
       "1         advanced                CMU    Carnegie Mellon University (Zoom)   \n",
       "2         advanced                FSM  University of Kansas Medical Center   \n",
       "3     intermediate  PlasticityLecture                            Rockhurst   \n",
       "4         advanced               CGRS               State Capitol Building   \n",
       "\n",
       "         date             location  \\\n",
       "0  2020-10-09  Kansas City KS, USA   \n",
       "1  2020-11-10   Pittsburgh PA, USA   \n",
       "2  2019-01-21  Kansas City KS, USA   \n",
       "3  2017-06-08  Kansas City MO, USA   \n",
       "4  2017-06-21       Topeka KS, USA   \n",
       "\n",
       "                                            talk_url  \\\n",
       "0  https://docs.google.com/presentation/d/1kmUq7k...   \n",
       "1  https://docs.google.com/presentation/d/1BAc7-n...   \n",
       "2                                                NaN   \n",
       "3                                                NaN   \n",
       "4                                                NaN   \n",
       "\n",
       "                                         description  \\\n",
       "0  Successfully defended my doctoral thesis with ...   \n",
       "1  Low-frequency (0.1-4 Hz) neural activity durin...   \n",
       "2  I made it to the final round of the KUMC three...   \n",
       "3  I gave an invited guest lecture describing pri...   \n",
       "4  I presented a poster on a Hidden Markov Model ...   \n",
       "\n",
       "                                                tags  \n",
       "0  Thesis,Defense,Stroke,Rat,Motor,Recovery,Spike...  \n",
       "1  CMU,Sensorimotor,BIBO,Rat,Reaching,Spike,Dynamics  \n",
       "2  3MT,KUMC,Spike,Detection,FPGA,Intan,FSM,Closed...  \n",
       "3       Lecture,Rockhurst,BCI,Rehabilitation,Therapy  \n",
       "4   CGRS,Topeka,Poster,Anesthetized,Rat,Markov,Model  "
      ],
      "text/html": "<div>\n<style scoped>\n    .dataframe tbody tr th:only-of-type {\n        vertical-align: middle;\n    }\n\n    .dataframe tbody tr th {\n        vertical-align: top;\n    }\n\n    .dataframe thead th {\n        text-align: right;\n    }\n</style>\n<table border=\"1\" class=\"dataframe\">\n  <thead>\n    <tr style=\"text-align: right;\">\n      <th></th>\n      <th>title</th>\n      <th>type</th>\n      <th>assesses</th>\n      <th>educationalLevel</th>\n      <th>url_slug</th>\n      <th>venue</th>\n      <th>date</th>\n      <th>location</th>\n      <th>talk_url</th>\n      <th>description</th>\n      <th>tags</th>\n    </tr>\n  </thead>\n  <tbody>\n    <tr>\n      <th>0</th>\n      <td>Doctoral Defense</td>\n      <td>Talk</td>\n      <td>Stroke</td>\n      <td>intermediate</td>\n      <td>Dissertation</td>\n      <td>Global (Zoom)</td>\n      <td>2020-10-09</td>\n      <td>Kansas City KS, USA</td>\n      <td>https://docs.google.com/presentation/d/1kmUq7k...</td>\n      <td>Successfully defended my doctoral thesis with ...</td>\n      <td>Thesis,Defense,Stroke,Rat,Motor,Recovery,Spike...</td>\n    </tr>\n    <tr>\n      <th>1</th>\n      <td>Mechanisms of Recovery from Motor Stroke</td>\n      <td>Talk</td>\n      <td>Stroke</td>\n      <td>advanced</td>\n      <td>CMU</td>\n      <td>Carnegie Mellon University (Zoom)</td>\n      <td>2020-11-10</td>\n      <td>Pittsburgh PA, USA</td>\n      <td>https://docs.google.com/presentation/d/1BAc7-n...</td>\n      <td>Low-frequency (0.1-4 Hz) neural activity durin...</td>\n      <td>CMU,Sensorimotor,BIBO,Rat,Reaching,Spike,Dynamics</td>\n    </tr>\n    <tr>\n      <th>2</th>\n      <td>State Machine for Low-Latency High-Fidelity Sp...</td>\n      <td>Talk</td>\n      <td>Spike Detection</td>\n      <td>advanced</td>\n      <td>FSM</td>\n      <td>University of Kansas Medical Center</td>\n      <td>2019-01-21</td>\n      <td>Kansas City KS, USA</td>\n      <td>NaN</td>\n      <td>I made it to the final round of the KUMC three...</td>\n      <td>3MT,KUMC,Spike,Detection,FPGA,Intan,FSM,Closed...</td>\n    </tr>\n    <tr>\n      <th>3</th>\n      <td>Neuroplasticity and Neurorehabilitation</td>\n      <td>Talk</td>\n      <td>Rehabilitation</td>\n      <td>intermediate</td>\n      <td>PlasticityLecture</td>\n      <td>Rockhurst</td>\n      <td>2017-06-08</td>\n      <td>Kansas City MO, USA</td>\n      <td>NaN</td>\n      <td>I gave an invited guest lecture describing pri...</td>\n      <td>Lecture,Rockhurst,BCI,Rehabilitation,Therapy</td>\n    </tr>\n    <tr>\n      <th>4</th>\n      <td>Capitol Graduate Research Summit</td>\n      <td>Poster</td>\n      <td>BCI</td>\n      <td>advanced</td>\n      <td>CGRS</td>\n      <td>State Capitol Building</td>\n      <td>2017-06-21</td>\n      <td>Topeka KS, USA</td>\n      <td>NaN</td>\n      <td>I presented a poster on a Hidden Markov Model ...</td>\n      <td>CGRS,Topeka,Poster,Anesthetized,Rat,Markov,Model</td>\n    </tr>\n  </tbody>\n</table>\n</div>"
     },
     "metadata": {},
     "execution_count": 26
    }
   ],
   "source": [
    "oldContents = os.listdir(\"../_talks/\")\n",
    "talks = pd.read_csv(\"talks.tsv\", sep=\"\\t\", header=0)\n",
    "print(\"Imported generator `talks.tsv` file:\")\n",
    "talks"
   ]
  },
  {
   "cell_type": "markdown",
   "metadata": {},
   "source": [
    "## Escape special characters\n",
    "\n",
    "YAML is very picky about how it takes a valid string, so we are replacing single and double quotes (and ampersands) with their HTML encoded equivilents. This makes them look not so readable in raw format, but they are parsed and rendered nicely."
   ]
  },
  {
   "cell_type": "code",
   "execution_count": 27,
   "metadata": {},
   "outputs": [],
   "source": [
    "html_escape_table = {\n",
    "    \"&\": \"&amp;\",\n",
    "    '\"': \"&quot;\",\n",
    "    \"'\": \"&apos;\"\n",
    "    }\n",
    "\n",
    "def html_escape(text):\n",
    "    if type(text) is str:\n",
    "        return \"\".join(html_escape_table.get(c,c) for c in text)\n",
    "    else:\n",
    "        return \"False\""
   ]
  },
  {
   "cell_type": "markdown",
   "metadata": {},
   "source": [
    "## Creating the markdown files\n",
    "\n",
    "This is where the heavy lifting is done. This loops through all the rows in the TSV dataframe, then starts to concatentate a big string (```md```) that contains the markdown for each type. It does the YAML metadata first, then does the description for the individual page."
   ]
  },
  {
   "cell_type": "code",
   "execution_count": 28,
   "metadata": {},
   "outputs": [],
   "source": [
    "loc_dict = {}\n",
    "\n",
    "for row, item in talks.iterrows():\n",
    "    \n",
    "    md_filename = str(item.date) + \"-\" + item.url_slug + \".md\"\n",
    "    html_filename = str(item.date) + \"-\" + item.url_slug \n",
    "    year = item.date[:4]\n",
    "    tags = item.tags.split(\",\")\n",
    "    \n",
    "    md = \"---\\ntitle: \\\"\"   + item.title + '\"\\n'\n",
    "\n",
    "    md += \"collection: talks\" + \"\\n\"\n",
    "\n",
    "    md += \"category: talks\" + \"\\n\"\n",
    "\n",
    "    md += 'layout: talk\\n'\n",
    "    \n",
    "    if len(str(item.type)) > 3:\n",
    "        md += 'type: \"' + item.type + '\"\\n'\n",
    "    else:\n",
    "        md += 'type: \"Talk\"\\n'\n",
    "    \n",
    "    md += \"permalink: /talks/\" + html_filename + \"/\\n\"\n",
    "\n",
    "    md += \"redirect_from:\\n\"\n",
    "\n",
    "    md += \"  - \\\"/talks/\" + html_filename + \".html\\\"\\n\"\n",
    "    \n",
    "    md += \"  - \\\"/talks/\" + html_filename + \"\\\"\\n\"\n",
    "    \n",
    "    if len(str(item.venue)) > 3:\n",
    "        md += 'venue: \"' + item.venue + '\"\\n'\n",
    "        \n",
    "    if len(str(item.location)) > 3:\n",
    "        md += \"date: \" + str(item.date) + \"\\n\"\n",
    "    \n",
    "    if len(str(item.location)) > 3:\n",
    "        md += 'location: \"' + str(item.location) + '\"\\n'\n",
    "\n",
    "    md += \"author_profile: true\\n\"\n",
    "\n",
    "    md += \"assesses: \" + item.assesses + \"\\n\"\n",
    "\n",
    "    md += \"educationalLevel: \" + item.educationalLevel + \"\\n\"\n",
    "\n",
    "    ## Add tags in lowercase (they are delimited using \",\" in the tsv file)\n",
    "    md += \"tags:\\n\"\n",
    "    for tag in tags:\n",
    "        md += \"  - \" + html_escape(tag.lower()) + \"\\n\"\n",
    "\n",
    "    md += \"keywords:\\n\"\n",
    "    for tag in tags:\n",
    "        md += \"  - \" + html_escape(tag.lower()) + \"\\n\"\n",
    "\n",
    "    md += \"---\\n\"\n",
    "    \n",
    "    \n",
    "    if len(str(item.talk_url)) > 3:\n",
    "        md += \"\\n[More information here](\" + item.talk_url + \")\\n\" \n",
    "        \n",
    "    \n",
    "    if len(str(item.description)) > 3:\n",
    "        md += \"\\n\" + html_escape(item.description) + \"\\n\"\n",
    "        \n",
    "        \n",
    "    md_filename = os.path.basename(md_filename)\n",
    "    #print(md)\n",
    "    \n",
    "    with open(\"../_talks/\" + md_filename, 'w') as f:\n",
    "        f.write(md)"
   ]
  },
  {
   "cell_type": "markdown",
   "metadata": {},
   "source": [
    "These files are in the talks directory, one directory below where we're working from."
   ]
  },
  {
   "cell_type": "code",
   "execution_count": 29,
   "metadata": {},
   "outputs": [
    {
     "output_type": "stream",
     "name": "stdout",
     "text": [
      "No new `talks` files added.\nExisting files:\n\t2017-06-08-PlasticityLecture.md\n\t2017-06-21-CGRS.md\n\t2019-01-21-FSM.md\n\t2020-10-09-Dissertation.md\n\t2020-11-10-CMU.md\n"
     ]
    }
   ],
   "source": [
    "newContents = os.listdir(\"../_talks/\")\n",
    "if collections.Counter(oldContents) == collections.Counter(newContents):\n",
    "    print(\"No new `talks` files added.\")\n",
    "    print(\"Existing files:\")\n",
    "    for f in oldContents:\n",
    "        print(\"\\t\" + f)\n",
    "else:\n",
    "    print(\"Generated new `talks` files:\")\n",
    "    for f in newContents:\n",
    "        print(\"\\t\" + f)"
   ]
  }
 ],
 "metadata": {
  "kernelspec": {
   "display_name": "Python 3",
   "language": "python",
   "name": "python3"
  },
  "language_info": {
   "codemirror_mode": {
    "name": "ipython",
    "version": 3
   },
   "file_extension": ".py",
   "mimetype": "text/x-python",
   "name": "python",
   "nbconvert_exporter": "python",
   "pygments_lexer": "ipython3",
   "version": "3.8.3-final"
  }
 },
 "nbformat": 4,
 "nbformat_minor": 1
}